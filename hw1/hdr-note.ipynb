{
 "cells": [
  {
   "cell_type": "markdown",
   "metadata": {},
   "source": [
    "# HDR\n",
    "* b03902089 林良翰\n",
    "* b03902032 周家宇"
   ]
  },
  {
   "cell_type": "code",
   "execution_count": null,
   "metadata": {},
   "outputs": [],
   "source": [
    "import cv2\n",
    "import numpy as np\n",
    "import matplotlib.pyplot as plt\n",
    "import matplotlib.ticker as ticker\n",
    "from mpl_toolkits.axes_grid1 import make_axes_locatable\n",
    "import os.path as osp\n",
    "import os\n",
    "from timer import Timer"
   ]
  },
  {
   "cell_type": "code",
   "execution_count": null,
   "metadata": {},
   "outputs": [],
   "source": [
    "t = Timer()"
   ]
  },
  {
   "cell_type": "markdown",
   "metadata": {},
   "source": [
    "## Read images"
   ]
  },
  {
   "cell_type": "code",
   "execution_count": null,
   "metadata": {},
   "outputs": [],
   "source": [
    "dirname = 'image_self'\n",
    "\n",
    "images = []\n",
    "images_rgb = []\n",
    "\n",
    "for filename in os.listdir(dirname):\n",
    "    images += [cv2.imread(dirname + '/' + filename)]\n",
    "    images_rgb += [cv2.cvtColor(images[-1], cv2.COLOR_BGR2RGB)]\n",
    "\n",
    "# number of images\n",
    "P = len(images)\n",
    "print('P =', P)\n",
    "\n",
    "height, width, channel = images[0].shape\n",
    "print('image shape:', images[0].shape)"
   ]
  },
  {
   "cell_type": "code",
   "execution_count": null,
   "metadata": {
    "scrolled": false
   },
   "outputs": [],
   "source": [
    "fig, axes = plt.subplots(4, 4, figsize=(15, 15))\n",
    "for p in range(P):\n",
    "    row = int(p / 4)\n",
    "    col = int(p % 4)\n",
    "    axes[row, col].imshow(images_rgb[p])\n",
    "plt.show()"
   ]
  },
  {
   "cell_type": "code",
   "execution_count": null,
   "metadata": {},
   "outputs": [],
   "source": [
    "shutter_times = np.array([1/90., 1/60., 1/45., 1/30., \n",
    "                          1/20., 1/15., 1/10.,  1/8., \n",
    "                           1/6.,  1/4.,  1/3.,  1/2., \n",
    "                          1/1.5,    1.,   1.5,    2.], dtype=np.float32)\n",
    "Ln_st = np.log(shutter_times).astype(np.float32)"
   ]
  },
  {
   "cell_type": "markdown",
   "metadata": {},
   "source": [
    "## HDR Radiance Map (cv2 package)"
   ]
  },
  {
   "cell_type": "code",
   "execution_count": null,
   "metadata": {},
   "outputs": [],
   "source": [
    "alignMTB = cv2.createAlignMTB()\n",
    "alignMTB.process(images, images)\n",
    "\n",
    "calibrateDebevec = cv2.createCalibrateDebevec()\n",
    "responseDebevec = calibrateDebevec.process(images, shutter_times)\n",
    "\n",
    "mergeDebevec = cv2.createMergeDebevec()\n",
    "hdrDebevec = mergeDebevec.process(images, shutter_times, responseDebevec)\n",
    "\n",
    "tonemapDrago = cv2.createTonemapDrago(1.0, 0.7)\n",
    "ldrDrago = tonemapDrago.process(hdrDebevec)\n",
    "ldrDrago = 3 * ldrDrago\n",
    "cv2.imwrite(\"result_cv2.jpg\", ldrDrago * 255)"
   ]
  },
  {
   "cell_type": "markdown",
   "metadata": {},
   "source": [
    "## Image Alignment\n",
    "* dx: right positive\n",
    "* dy: down positive"
   ]
  },
  {
   "cell_type": "code",
   "execution_count": null,
   "metadata": {},
   "outputs": [],
   "source": [
    "def translationMatrix(dx, dy):\n",
    "    M = np.float32([[1, 0, dx],\n",
    "                    [0, 1, dy]])\n",
    "    return M\n",
    "\n",
    "def findShift(src, tar, x, y, thres=4):\n",
    "    h, w = tar.shape[:2]\n",
    "    min_error = np.inf\n",
    "    best_dx, best_dy = 0, 0\n",
    "    \n",
    "    median = np.median(src)\n",
    "    ignore_pixels = np.ones(src.shape)\n",
    "    ignore_pixels[np.where(np.abs(src - median) <= thres)] = 0\n",
    "    \n",
    "    for dx in range(-1, 2):\n",
    "        for dy in range(-1, 2):\n",
    "            tmp_src = cv2.warpAffine(src, translationMatrix(x + dx, y + dy), (w, h))\n",
    "            \n",
    "            error = np.abs(np.sign(tmp_src - tar))\n",
    "            error = np.sum(error * ignore_pixels)\n",
    "            \n",
    "            if error < min_error:\n",
    "                min_error = error\n",
    "                best_dx, best_dy = dx, dy\n",
    "    \n",
    "    return x + best_dx, y + best_dy\n",
    "            \n",
    "def imageAlignment(src, tar, depth=6):\n",
    "    if depth == 0:\n",
    "        dx, dy = findShift(src, tar, 0, 0)\n",
    "        \n",
    "    else:\n",
    "        h, w = src.shape[:2]\n",
    "        half_src = cv2.resize(src, (w//2, h//2))\n",
    "        half_tar = cv2.resize(tar, (w//2, h//2))\n",
    "        prev_dx, prev_dy = imageAlignment(half_src, half_tar, depth-1)\n",
    "        dx, dy = findShift(src, tar, prev_dx * 2, prev_dy * 2)\n",
    "\n",
    "    return dx, dy"
   ]
  },
  {
   "cell_type": "code",
   "execution_count": null,
   "metadata": {},
   "outputs": [],
   "source": [
    "# test image alignment\n",
    "test_image = np.array(images[0]) # your custom input\n",
    "\n",
    "target = cv2.cvtColor(test_image, cv2.COLOR_BGR2GRAY)\n",
    "h, w = target.shape[:2]\n",
    "\n",
    "# shift x +13, y -10\n",
    "source = cv2.warpAffine(target, translationMatrix(13, -10), (w, h))\n",
    "\n",
    "# result should be x -13, y +10\n",
    "print('result:', imageAlignment(source, target))"
   ]
  },
  {
   "cell_type": "markdown",
   "metadata": {},
   "source": [
    "## HDR Radiance Map (self)"
   ]
  },
  {
   "cell_type": "markdown",
   "metadata": {},
   "source": [
    "**Select sample points**"
   ]
  },
  {
   "cell_type": "code",
   "execution_count": null,
   "metadata": {},
   "outputs": [],
   "source": [
    "xp = np.random.randint(0, width, 10)\n",
    "yp = np.random.randint(0, height, 10)\n",
    "\n",
    "N = len(xp) * len(yp) # number of selected pixels\n",
    "print('# samples per image =', N)\n",
    "\n",
    "xv, yv = np.meshgrid(xp, yp)\n",
    "Z_bgr = [[images[p][yv, xv, c] for p in range(P)] for c in range(3)]\n",
    "\n",
    "Z_all_bgr = [[images[p][:, :, c] for p in range(P)] for c in range(3)]"
   ]
  },
  {
   "cell_type": "markdown",
   "metadata": {},
   "source": [
    "**Weights**\n",
    "* 0 uniform\n",
    "* 1 triangle\n",
    "* 2 relu\n",
    "* 3 gaussian"
   ]
  },
  {
   "cell_type": "code",
   "execution_count": null,
   "metadata": {},
   "outputs": [],
   "source": [
    "weight_type=3"
   ]
  },
  {
   "cell_type": "code",
   "execution_count": null,
   "metadata": {},
   "outputs": [],
   "source": [
    "gaussian = lambda x, mu, s: 1 / (s * (2 * np.pi) ** (1/2)) * np.exp(-(x - mu) ** 2 / (2 * s ** 2))\n",
    "\n",
    "def weights_relu(Z, p):\n",
    "        w = np.zeros(256, dtype=np.float32)\n",
    "        zmid = np.ceil(np.mean(Z)).astype(int)\n",
    "        if p == 0:\n",
    "            w[zmid:] = np.arange(256-zmid, dtype=np.float32) / (256-zmid)\n",
    "        elif p == 1:\n",
    "            return getWeights(Z, wtype=1)\n",
    "        elif p == 2:\n",
    "            w[:zmid] = np.arange(zmid, dtype=np.float32)[::-1] / zmid\n",
    "        return w[Z]\n",
    "\n",
    "def getWeights(Z, wtype=0, p=0, mean=128, sigma=128):\n",
    "    if wtype == 1:\n",
    "        zmax = np.max(Z).astype(np.float32)\n",
    "        zmin = np.min(Z).astype(np.float32)\n",
    "        zmid = np.ceil(np.mean(Z)).astype(int)\n",
    "        weights = np.arange(256, dtype=np.float32)\n",
    "        weights[:zmid] = weights[:zmid] - zmin\n",
    "        weights[zmid:] = zmax - weights[zmid:]\n",
    "        return weights[Z] / zmid.astype(np.float32)\n",
    "    \n",
    "    elif wtype == 2:\n",
    "        if len(Z) == P * N:\n",
    "            weights = np.zeros_like(Z).astype(np.float32)\n",
    "            for p in range(P):\n",
    "                weights[p * N : p * N + N] = weights_relu(Z[p * N : p * N + N], p)\n",
    "            return weights\n",
    "        else:\n",
    "            return weights_relu(Z, p)\n",
    "    \n",
    "    elif wtype == 3:\n",
    "        w = np.arange(256)\n",
    "        return gaussian(w, mean, sigma)[Z]\n",
    "    \n",
    "    else:\n",
    "        return np.ones(Z.shape, dtype=np.float32)"
   ]
  },
  {
   "cell_type": "markdown",
   "metadata": {},
   "source": [
    "### 1. Paul Debevec's method"
   ]
  },
  {
   "cell_type": "code",
   "execution_count": null,
   "metadata": {},
   "outputs": [],
   "source": [
    "def constructA(cols, rows, W, Ln_st, N, P, constraint, lamda):\n",
    "    A = np.zeros([N * P + 255, 256 + N], dtype=np.float32)\n",
    "    \n",
    "    A[cols, rows] = W\n",
    "    \n",
    "    for p in range(P):\n",
    "        A[p * N : p * N + N, 256:] = -np.identity(N) * W[p * N : p * N + N]\n",
    "        \n",
    "    for i in range(254):\n",
    "        A[N * P + i, i : i + 3] = np.array([1, -2, 1]) * lamda\n",
    "        \n",
    "    A[-1, constraint] = 1\n",
    "    \n",
    "    return A\n",
    "\n",
    "def constructB(cols, rows, W, Ln_st, N, P):\n",
    "    B = np.zeros(N * P + 255, dtype=np.float32)\n",
    "    \n",
    "    for p in range(P):\n",
    "        B[p * N : p * N + N] = Ln_st[p]\n",
    "    B[cols] *= W\n",
    "    \n",
    "    return B\n",
    "    \n",
    "def constructMatrix(samples, Ln_shutter_times, num_samples, num_images, constraint=127, lamda=10):\n",
    "    Z = samples\n",
    "    Ln_st = Ln_shutter_times\n",
    "    N = num_samples\n",
    "    P = num_images\n",
    "    \n",
    "    cols = np.arange(N * P)\n",
    "    rows = np.array(Z).flatten()\n",
    "    \n",
    "    W = getWeights(rows, wtype=weight_type)\n",
    "    \n",
    "    A = constructA(cols, rows, W, Ln_st, N, P, constraint, lamda)\n",
    "    B = constructB(cols, rows, W, Ln_st, N, P)\n",
    "    \n",
    "    return A, B"
   ]
  },
  {
   "cell_type": "code",
   "execution_count": null,
   "metadata": {},
   "outputs": [],
   "source": [
    "def debevecMethod(Z, Ln_st, N, P):\n",
    "    A, B = constructMatrix(Z, Ln_st, N, P, constraint=127)\n",
    "    A_inv = np.linalg.pinv(A)\n",
    "    lnG = np.dot(A_inv, B)[:256]\n",
    "    print('A_inv solved:', A_inv.shape)\n",
    "    \n",
    "    return lnG"
   ]
  },
  {
   "cell_type": "markdown",
   "metadata": {},
   "source": [
    "** Compute Radiance Map **"
   ]
  },
  {
   "cell_type": "code",
   "execution_count": null,
   "metadata": {
    "scrolled": true
   },
   "outputs": [],
   "source": [
    "LnG_bgr = [debevecMethod(Z, Ln_st, N, P) for Z in Z_bgr]"
   ]
  },
  {
   "cell_type": "markdown",
   "metadata": {},
   "source": [
    "** Display Radiance Map **"
   ]
  },
  {
   "cell_type": "code",
   "execution_count": null,
   "metadata": {
    "scrolled": true
   },
   "outputs": [],
   "source": [
    "def fmt(x, pos):\n",
    "    return '%.3f' % np.exp(x)\n",
    "\n",
    "# G_bgr need to be log\n",
    "def displayRadiance(images, LnG_bgr, weight_type):\n",
    "    Ln_radiance_bgr = np.zeros([height, width, 3]).astype(np.float32)\n",
    "\n",
    "    P = len(images)\n",
    "    \n",
    "    plt.clf()\n",
    "    fig, axes = plt.subplots(1, 3, figsize=(15, 5))\n",
    "    bgr_string = ['b', 'g', 'r']\n",
    "\n",
    "    for c in range(3):\n",
    "\n",
    "        W_sum = np.zeros([height, width], dtype=np.float32) + 1e-8\n",
    "        Ln_radiance_sum = np.zeros([height, width], dtype=np.float32)\n",
    "\n",
    "        for p in range(P):\n",
    "            \n",
    "            print('\\rcolor=' + bgr_string[c] + ', st=%.4f' % (shutter_times[p]), end='       ')\n",
    "            \n",
    "            im_1D = images[p][:, :, c].flatten()\n",
    "            Ln_radiance = (LnG_bgr[c][im_1D] - Ln_st[p]).reshape(height, width)\n",
    "\n",
    "            weights = getWeights(im_1D, wtype=weight_type, p=p).reshape(height, width)\n",
    "            w_Ln_radiance = Ln_radiance * weights\n",
    "            Ln_radiance_sum += w_Ln_radiance\n",
    "            W_sum += weights\n",
    "\n",
    "            #axes[p, c].imshow(w_Ln_radiance, cmap='jet', interpolation='nearest', aspect='auto')\n",
    "            #axes[p, c].set_title('dt=%.4f' % shutter_times[p] + ', ' + bgr_string[c])\n",
    "\n",
    "        weighted_Ln_radiance = Ln_radiance_sum / W_sum\n",
    "        Ln_radiance_bgr[:, :, c] = weighted_Ln_radiance\n",
    "        \n",
    "        ax = axes[c]\n",
    "        im = ax.imshow(weighted_Ln_radiance, cmap='jet')\n",
    "        ax.set_title(bgr_string[c])\n",
    "        ax.set_axis_off()\n",
    "        divider = make_axes_locatable(ax)\n",
    "        cax = divider.append_axes(\"right\", size=\"5%\", pad=0.05)\n",
    "        fig.colorbar(im, cax=cax, format=ticker.FuncFormatter(fmt))\n",
    "\n",
    "    fig.savefig('radiance_debevec.png', bbox_inches='tight', dpi=256)\n",
    "    return np.exp(Ln_radiance_bgr)"
   ]
  },
  {
   "cell_type": "code",
   "execution_count": null,
   "metadata": {},
   "outputs": [],
   "source": [
    "radiance_debevec = displayRadiance(images, LnG_bgr, weight_type)"
   ]
  },
  {
   "cell_type": "markdown",
   "metadata": {},
   "source": [
    "** Display Response Curve **"
   ]
  },
  {
   "cell_type": "code",
   "execution_count": null,
   "metadata": {},
   "outputs": [],
   "source": [
    "def displayResponseCurve(LnG_bgr):\n",
    "    bgr_string = ['b', 'g', 'r']\n",
    "    fig, axes = plt.subplots(1, 3, figsize=(15, 5))\n",
    "    for c in range(3):\n",
    "        ax = axes[c]\n",
    "        ax.plot(LnG_bgr[c], np.arange(256), c=bgr_string[c])\n",
    "        ax.set_title(bgr_string[c])\n",
    "        ax.set_xlabel('E: Log Exposure')\n",
    "        ax.set_ylabel('Z: Pixel Value')\n",
    "        ax.grid(linestyle=':', linewidth=1)\n",
    "    fig.savefig('LnG_response_curve.png', bbox_inches='tight', dpi=256)"
   ]
  },
  {
   "cell_type": "code",
   "execution_count": null,
   "metadata": {},
   "outputs": [],
   "source": [
    "displayResponseCurve(LnG_bgr)"
   ]
  },
  {
   "cell_type": "markdown",
   "metadata": {},
   "source": [
    "### 2. Robertson's method"
   ]
  },
  {
   "cell_type": "code",
   "execution_count": null,
   "metadata": {},
   "outputs": [],
   "source": [
    "def fitE(Z, G, st):\n",
    "    Wz = getWeights(Z, wtype=weight_type).reshape(P, -1)\n",
    "    Gz = G[Z].reshape(P, -1)\n",
    "    \n",
    "    upper = np.sum(Wz * Gz * st, axis=0).astype(np.float32)\n",
    "    bottom = np.sum(Wz * st * st, axis=0).astype(np.float32)\n",
    "    return upper / bottom\n",
    "\n",
    "def fitG(Z, G, E, st):\n",
    "    Z = Z.reshape(P, -1)\n",
    "    Wz = getWeights(Z, wtype=weight_type).reshape(P, -1)\n",
    "    Wz_Em_st = Wz * (E * st)\n",
    "    \n",
    "    for m in range(256):\n",
    "        index = np.where(Z == m)\n",
    "        upper = np.sum(Wz_Em_st[index]).astype(np.float32)\n",
    "        lower = np.sum(Wz[index]).astype(np.float32)\n",
    "        if lower > 0:\n",
    "            G[m] = upper / lower\n",
    "            \n",
    "    G /= G[127]\n",
    "    return G\n",
    "\n",
    "# initG not need to be log\n",
    "def robertsonMethod(Z_bgr, initG, epochs=2):\n",
    "    G_bgr = np.array(initG)\n",
    "    st = shutter_times.reshape(P, 1)\n",
    "    \n",
    "    for c in range(3):\n",
    "        Z = np.array(Z_bgr[c])\n",
    "        G = np.array(initG[c])\n",
    "        \n",
    "        for e in range(epochs):\n",
    "            print('\\rcolor=%d, epoch=%d' % (c, e), end='    ')\n",
    "            # Compute Ei (energy of each pixel)\n",
    "            E = fitE(Z, G, st)\n",
    "            # Compute Gm\n",
    "            G = fitG(Z, G, E, st)\n",
    "\n",
    "        G_bgr[c] = G\n",
    "        \n",
    "    return G_bgr.astype(np.float32)"
   ]
  },
  {
   "cell_type": "code",
   "execution_count": null,
   "metadata": {},
   "outputs": [],
   "source": [
    "G2_bgr = robertsonMethod(Z_all_bgr, np.exp(LnG_bgr), epochs=5)\n",
    "radiance_robertson = displayRadiance(images, np.log(G2_bgr), 3)"
   ]
  },
  {
   "cell_type": "markdown",
   "metadata": {},
   "source": [
    "## Tone Mapping"
   ]
  },
  {
   "cell_type": "markdown",
   "metadata": {},
   "source": [
    "** cv2 packages **"
   ]
  },
  {
   "cell_type": "code",
   "execution_count": null,
   "metadata": {},
   "outputs": [],
   "source": [
    "radiance = radiance_debevec\n",
    "\n",
    "tonemapDrago = cv2.createTonemapDrago(1.0, 0.7)\n",
    "ldrDrago = tonemapDrago.process(radiance)\n",
    "cv2.imwrite(\"result_drago.jpg\", ldrDrago * 255 * 3)\n",
    "\n",
    "tonemapDurand = cv2.createTonemapDurand(1.5, 4, 1.0, 1, 1)\n",
    "ldrDurand = tonemapDurand.process(radiance)\n",
    "cv2.imwrite(\"result_durand.jpg\", ldrDurand * 255 * 3)\n",
    "\n",
    "tonemapReinhard = cv2.createTonemapReinhard(1.5, 0, 0, 0)\n",
    "ldrReinhard = tonemapReinhard.process(radiance)\n",
    "cv2.imwrite(\"result_reinhard.jpg\", ldrReinhard * 255 * 3)\n",
    "\n",
    "tonemapMantiuk = cv2.createTonemapMantiuk(2.2, 0.85, 1.2)\n",
    "ldrMantiuk = tonemapMantiuk.process(radiance)\n",
    "cv2.imwrite(\"result_mantiuk.jpg\", ldrMantiuk * 255 * 3)"
   ]
  },
  {
   "cell_type": "markdown",
   "metadata": {},
   "source": [
    "** Photographic Tone Reproduction **"
   ]
  },
  {
   "cell_type": "markdown",
   "metadata": {},
   "source": [
    "A. global"
   ]
  },
  {
   "cell_type": "code",
   "execution_count": null,
   "metadata": {},
   "outputs": [],
   "source": [
    "# d: log zero avoidance\n",
    "# a: average key\n",
    "\n",
    "def photographicGlobal(radiance, d=1e-6, a=1.0):\n",
    "    result = np.zeros_like(radiance, dtype=np.float32)\n",
    "\n",
    "    for c in range(3):\n",
    "        Lw = radiance[:, :, c]\n",
    "        Lw_ave = np.exp(np.mean(np.log(d + Lw)))\n",
    "        Lm = (a / Lw_ave) * Lw\n",
    "        Lm_max = np.max(Lm) # Lm_white\n",
    "        Ld = Lm * (1 + (Lm / Lm_max ** 2)) / (1 + Lm)\n",
    "        result[:, :, c] = np.array(Ld * 255).astype(np.uint8)\n",
    "\n",
    "    cv2.imwrite(\"result_photographic_global.jpg\", result)\n",
    "    return result"
   ]
  },
  {
   "cell_type": "code",
   "execution_count": null,
   "metadata": {},
   "outputs": [],
   "source": [
    "res = photographicGlobal(radiance_debevec)"
   ]
  },
  {
   "cell_type": "code",
   "execution_count": null,
   "metadata": {},
   "outputs": [],
   "source": [
    "res = photographicGlobal(radiance_robertson)"
   ]
  },
  {
   "cell_type": "markdown",
   "metadata": {},
   "source": [
    "B. local"
   ]
  },
  {
   "cell_type": "code",
   "execution_count": null,
   "metadata": {},
   "outputs": [],
   "source": [
    "# a: average key\n",
    "# fi: sharpening\n",
    "# epsilon: threshold of smoothness\n",
    "\n",
    "def gaussianBlurs(im, smax=25, a=1.0, fi=8.0, epsilon=0.01):\n",
    "    cols, rows = im.shape\n",
    "    blur_prev = im\n",
    "    num_s = int((smax+1)/2)\n",
    "    \n",
    "    blur_list = np.zeros(im.shape + (num_s,))\n",
    "    Vs_list = np.zeros(im.shape + (num_s,))\n",
    "    \n",
    "    for i, s in enumerate(range(1, smax+1, 2)):\n",
    "        print('\\rfilter:', s, end='')\n",
    "        blur = cv2.GaussianBlur(im, (s, s), 0)\n",
    "        Vs = np.abs((blur - blur_prev) / (2 ** fi * a / s ** 2 + blur_prev))\n",
    "        blur_list[:, :, i] = blur\n",
    "        Vs_list[:, :, i] = Vs\n",
    "    print()\n",
    "    \n",
    "    # 2D index\n",
    "    print('find index...')\n",
    "    smax = np.argmax(Vs_list > epsilon, axis=2)\n",
    "    smax[np.where(smax == 0)] = 1\n",
    "    smax -= 1\n",
    "    \n",
    "    # select blur size for each pixel\n",
    "    print('apply index...')\n",
    "    I, J = np.ogrid[:cols, :rows]\n",
    "    blur_smax = blur_list[I, J, smax]\n",
    "\n",
    "    return blur_smax\n",
    "\n",
    "def photographicLocal(radiance, d=1e-6, a=0.7):\n",
    "    result = np.zeros_like(radiance, dtype=np.float32)\n",
    "    \n",
    "    if 1:\n",
    "        for c in range(3):\n",
    "            print('color:', c)\n",
    "            Lw = radiance[:, :, c]\n",
    "            Lw_ave = np.exp(np.mean(np.log(d + Lw)))\n",
    "            Lm = (a / Lw_ave) * Lw\n",
    "            Ls = gaussianBlurs(Lm)\n",
    "            Ld = Lm / (1 + Ls)\n",
    "            result[:, :, c] = np.array(Ld * 255).astype(np.uint8)\n",
    "    else:\n",
    "        Lw = 0.06 * radiance[:, :, 0] + 0.67 * radiance[:, :, 1] + 0.27 * radiance[:, :, 2]\n",
    "        Lw_ave = np.exp(np.mean(np.log(d + Lw)))\n",
    "        Lm = (a / Lw_ave) * Lw\n",
    "        Ls = gaussianBlurs(Lm)\n",
    "        Ld = Lm / (1 + Ls)\n",
    "        \n",
    "        for c in range(3):\n",
    "            result[:, :, c] = np.array((Ld / Lw) * radiance[:, :, c] * 255).astype(np.uint8)\n",
    "\n",
    "    cv2.imwrite(\"result_photographic_local.jpg\", result)\n",
    "    return result"
   ]
  },
  {
   "cell_type": "code",
   "execution_count": null,
   "metadata": {},
   "outputs": [],
   "source": [
    "res = photographicLocal(radiance_debevec)"
   ]
  },
  {
   "cell_type": "code",
   "execution_count": null,
   "metadata": {},
   "outputs": [],
   "source": [
    "res = photographicLocal(radiance_robertson)"
   ]
  }
 ],
 "metadata": {
  "kernelspec": {
   "display_name": "Python 3",
   "language": "python",
   "name": "python3"
  },
  "language_info": {
   "codemirror_mode": {
    "name": "ipython",
    "version": 3
   },
   "file_extension": ".py",
   "mimetype": "text/x-python",
   "name": "python",
   "nbconvert_exporter": "python",
   "pygments_lexer": "ipython3",
   "version": "3.6.2"
  }
 },
 "nbformat": 4,
 "nbformat_minor": 2
}
